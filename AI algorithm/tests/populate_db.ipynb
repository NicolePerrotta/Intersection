{
 "cells": [
  {
   "cell_type": "code",
   "execution_count": 1,
   "metadata": {
    "collapsed": true,
    "ExecuteTime": {
     "start_time": "2023-04-25T23:50:24.465392Z",
     "end_time": "2023-04-25T23:50:27.441237Z"
    }
   },
   "outputs": [],
   "source": [
    "import os\n",
    "import numpy as np\n",
    "from algorithm import extract_from_pdf, pre_process, encode\n",
    "from db import psycopg_engine"
   ]
  },
  {
   "cell_type": "code",
   "execution_count": 2,
   "outputs": [],
   "source": [
    "names = ['Nandagopal', 'Adryja', 'Ravi Ranjan', 'Ashish', 'name', 'Divya Prakash', 'Bijjula', 'Karthik', 'Prashant', 'Vivek', 'Avik', 'Kumar']"
   ],
   "metadata": {
    "collapsed": false,
    "ExecuteTime": {
     "start_time": "2023-04-25T23:50:27.429212Z",
     "end_time": "2023-04-25T23:50:27.442212Z"
    }
   }
  },
  {
   "cell_type": "code",
   "execution_count": 3,
   "outputs": [],
   "source": [
    "surnames = ['H ', 'Ghosh', 'Kumar', 'Thakur', 'surname', 'Singh', 'Sahithi', 'Raja', 'Bhat', 'Kumar', 'Bhattacharya', 'Rajput']"
   ],
   "metadata": {
    "collapsed": false,
    "ExecuteTime": {
     "start_time": "2023-04-25T23:50:27.440214Z",
     "end_time": "2023-04-25T23:50:27.464221Z"
    }
   }
  },
  {
   "cell_type": "code",
   "execution_count": 4,
   "outputs": [],
   "source": [
    "job_titles = ['Backend Developer', 'Data Scientist', 'Director of Engineering', 'IT Project Manager', '(ITA) Data Scientist', '(ITA) Web Developer', 'Lead Technical Program Manager', 'Primary English Teacher', 'Senior Product Manager', 'Senior Software Developer', 'Web Developer']"
   ],
   "metadata": {
    "collapsed": false,
    "ExecuteTime": {
     "start_time": "2023-04-25T23:50:27.458224Z",
     "end_time": "2023-04-25T23:50:27.477104Z"
    }
   }
  },
  {
   "cell_type": "code",
   "execution_count": 5,
   "outputs": [],
   "source": [
    "with psycopg_engine() as conn:\n",
    "    for i, (name, surname) in enumerate(zip(names, surnames)):\n",
    "         conn.execute(\"\"\"INSERT INTO worker VALUES (%(id)s, %(name)s, %(surname)s)\"\"\", params={\"id\": i+1, \"name\": name, \"surname\": surname})\n",
    "         conn.commit()"
   ],
   "metadata": {
    "collapsed": false,
    "ExecuteTime": {
     "start_time": "2023-04-25T23:50:27.472106Z",
     "end_time": "2023-04-25T23:50:34.967700Z"
    }
   }
  },
  {
   "cell_type": "code",
   "execution_count": 6,
   "outputs": [],
   "source": [
    "with psycopg_engine() as conn:\n",
    "    for i, title in enumerate(job_titles):\n",
    "        conn.execute(\"\"\"INSERT INTO job_offer VALUES (%(id)s, %(title)s)\"\"\", params={\"id\": i+1, \"title\": title})\n",
    "        conn.commit()"
   ],
   "metadata": {
    "collapsed": false,
    "ExecuteTime": {
     "start_time": "2023-04-25T23:50:34.967700Z",
     "end_time": "2023-04-25T23:50:41.939265Z"
    }
   }
  },
  {
   "cell_type": "code",
   "execution_count": 7,
   "outputs": [],
   "source": [
    "# Load the paths of all the files\n",
    "cv_dir = '../docs/cvs/'\n",
    "jobs_dir = '../docs/jobs/'\n",
    "cvs_paths = [ cv_dir + cv_path for cv_path in os.listdir(cv_dir) ]\n",
    "jobs_paths = [ jobs_dir + job_path for job_path in os.listdir(jobs_dir) ]"
   ],
   "metadata": {
    "collapsed": false,
    "ExecuteTime": {
     "start_time": "2023-04-25T23:50:41.939265Z",
     "end_time": "2023-04-25T23:50:41.953519Z"
    }
   }
  },
  {
   "cell_type": "code",
   "execution_count": 8,
   "outputs": [],
   "source": [
    "# Read PDFs as binary strings\n",
    "cvs_bin = [ open(cv_path, 'rb').read() for cv_path in cvs_paths ]\n",
    "jobs_bin = [ open(job_path, 'rb').read() for job_path in jobs_paths ]"
   ],
   "metadata": {
    "collapsed": false,
    "ExecuteTime": {
     "start_time": "2023-04-25T23:50:41.955510Z",
     "end_time": "2023-04-25T23:50:41.978518Z"
    }
   }
  },
  {
   "cell_type": "code",
   "execution_count": 9,
   "outputs": [],
   "source": [
    "# Save CV PDFs into the DB\n",
    "with psycopg_engine() as conn:\n",
    "    for i, cv in enumerate(cvs_bin):\n",
    "        conn.execute(\"\"\"UPDATE worker\n",
    "                        SET curriculum = %(cv)s\n",
    "                        WHERE worker_id = %(id)s\"\"\", params={\"id\": i+1, \"cv\": cv})\n",
    "        conn.commit()"
   ],
   "metadata": {
    "collapsed": false,
    "ExecuteTime": {
     "start_time": "2023-04-25T23:50:41.970508Z",
     "end_time": "2023-04-25T23:50:50.616425Z"
    }
   }
  },
  {
   "cell_type": "code",
   "execution_count": 10,
   "outputs": [],
   "source": [
    "# Save jobs PDFs into the DB\n",
    "with psycopg_engine() as conn:\n",
    "    for i, file in enumerate(jobs_bin):\n",
    "        conn.execute(\"\"\"UPDATE job_offer\n",
    "                        SET file = %(file)s\n",
    "                        WHERE offer_id = %(id)s\"\"\", params={\"id\": i+1, \"file\": file})\n",
    "        conn.commit()"
   ],
   "metadata": {
    "collapsed": false,
    "ExecuteTime": {
     "start_time": "2023-04-25T23:50:50.619424Z",
     "end_time": "2023-04-25T23:50:58.437264Z"
    }
   }
  },
  {
   "cell_type": "code",
   "execution_count": 11,
   "outputs": [],
   "source": [
    "# Compute CV embeddings\n",
    "cvs = [ extract_from_pdf(cv) for cv in cvs_paths]\n",
    "cvs = [ pre_process(cv) for cv in cvs ]\n",
    "cvs = [ encode(cv) for cv in cvs]"
   ],
   "metadata": {
    "collapsed": false,
    "ExecuteTime": {
     "start_time": "2023-04-25T23:50:58.440263Z",
     "end_time": "2023-04-25T23:51:21.427878Z"
    }
   }
  },
  {
   "cell_type": "code",
   "execution_count": 12,
   "outputs": [],
   "source": [
    "# Store CV embeddings\n",
    "with psycopg_engine() as conn:\n",
    "    for i, cv in enumerate(cvs):\n",
    "        conn.execute(\"\"\"UPDATE worker\n",
    "                        SET embedding = %(embedding)s\n",
    "                        WHERE worker_id = %(id)s\"\"\", params={\"id\": i+1, \"embedding\": cv.tolist()})\n",
    "        conn.commit()"
   ],
   "metadata": {
    "collapsed": false,
    "ExecuteTime": {
     "start_time": "2023-04-25T23:51:21.429858Z",
     "end_time": "2023-04-25T23:51:28.964497Z"
    }
   }
  },
  {
   "cell_type": "code",
   "execution_count": 13,
   "outputs": [],
   "source": [
    "# Compute jobs embeddings\n",
    "jobs = [ extract_from_pdf(job) for job in jobs_paths]\n",
    "jobs = [ pre_process(job) for job in jobs ]\n",
    "jobs = [ encode(job) for job in jobs]"
   ],
   "metadata": {
    "collapsed": false,
    "ExecuteTime": {
     "start_time": "2023-04-25T23:51:28.965496Z",
     "end_time": "2023-04-25T23:51:44.237942Z"
    }
   }
  },
  {
   "cell_type": "code",
   "execution_count": 14,
   "outputs": [],
   "source": [
    "# Store jobs embedding\n",
    "with psycopg_engine() as conn:\n",
    "    for i, job in enumerate(jobs):\n",
    "        conn.execute(\"\"\"UPDATE job_offer\n",
    "                        SET embedding = %(embedding)s\n",
    "                        WHERE offer_id = %(id)s\"\"\", params={\"id\": i+1, \"embedding\": job.tolist()})\n",
    "        conn.commit()"
   ],
   "metadata": {
    "collapsed": false,
    "ExecuteTime": {
     "start_time": "2023-04-25T23:51:44.239951Z",
     "end_time": "2023-04-25T23:51:51.171347Z"
    }
   }
  },
  {
   "cell_type": "code",
   "execution_count": 15,
   "outputs": [],
   "source": [
    "# Randomly populate the applies_to table\n",
    "np.random.seed(1)\n",
    "with psycopg_engine() as conn:\n",
    "    for i in range(len(jobs_paths)):\n",
    "        # Sample from a Bernoulli with P(success)=p\n",
    "        does_apply = np.random.binomial(n=1, p=0.3, size=len(cvs_paths))\n",
    "        for j in range(len(cvs_paths)):\n",
    "            # Insert only if success\n",
    "            if does_apply[j] == 1:\n",
    "                conn.execute(\"\"\"INSERT INTO applies_to VALUES (%(offer_id)s, %(worker_id)s)\"\"\", params={\"offer_id\": i+1, \"worker_id\": j+1})\n",
    "    conn.commit()"
   ],
   "metadata": {
    "collapsed": false,
    "ExecuteTime": {
     "start_time": "2023-04-25T23:51:51.172348Z",
     "end_time": "2023-04-25T23:51:59.276352Z"
    }
   }
  },
  {
   "cell_type": "code",
   "execution_count": 16,
   "outputs": [],
   "source": [
    "# Read a PDF from the database\n",
    "with psycopg_engine() as conn:\n",
    "    cur = conn.execute(\"\"\"SELECT curriculum from worker\n",
    "                    WHERE worker_id= %(id)s\"\"\", params={\"id\": 2})\n",
    "    data = cur.fetchone()[0]"
   ],
   "metadata": {
    "collapsed": false,
    "ExecuteTime": {
     "start_time": "2023-04-25T23:51:59.275352Z",
     "end_time": "2023-04-25T23:52:01.378547Z"
    }
   }
  },
  {
   "cell_type": "code",
   "execution_count": 17,
   "outputs": [],
   "source": [
    "# Write the file locally\n",
    "with open('temp.pdf', 'wb') as f:\n",
    "    f.write(data)"
   ],
   "metadata": {
    "collapsed": false,
    "ExecuteTime": {
     "start_time": "2023-04-25T23:52:01.378547Z",
     "end_time": "2023-04-25T23:52:01.393546Z"
    }
   }
  },
  {
   "cell_type": "code",
   "execution_count": 17,
   "outputs": [],
   "source": [],
   "metadata": {
    "collapsed": false,
    "ExecuteTime": {
     "start_time": "2023-04-25T23:52:01.393546Z",
     "end_time": "2023-04-25T23:52:01.414008Z"
    }
   }
  }
 ],
 "metadata": {
  "kernelspec": {
   "display_name": "Python 3",
   "language": "python",
   "name": "python3"
  },
  "language_info": {
   "codemirror_mode": {
    "name": "ipython",
    "version": 2
   },
   "file_extension": ".py",
   "mimetype": "text/x-python",
   "name": "python",
   "nbconvert_exporter": "python",
   "pygments_lexer": "ipython2",
   "version": "2.7.6"
  }
 },
 "nbformat": 4,
 "nbformat_minor": 0
}
