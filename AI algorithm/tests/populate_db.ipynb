{
 "cells": [
  {
   "cell_type": "code",
   "execution_count": 1,
   "metadata": {
    "collapsed": true,
    "ExecuteTime": {
     "start_time": "2023-04-25T16:33:47.746140Z",
     "end_time": "2023-04-25T16:33:56.770363Z"
    }
   },
   "outputs": [],
   "source": [
    "from base64 import b64encode, b64decode\n",
    "from db import psycopg_engine\n",
    "from algorithm import extract_from_pdf, pre_process, encode\n",
    "import os\n",
    "import numpy as np"
   ]
  },
  {
   "cell_type": "code",
   "execution_count": 2,
   "outputs": [],
   "source": [
    "names = ['Nandagopal', 'Adryja', 'Ravi Ranjan', 'Ashish', 'name', 'Divya Prakash', 'Bijjula', 'Karthik', 'Prashant', 'Vivek', 'Avik', 'Kumar']"
   ],
   "metadata": {
    "collapsed": false,
    "ExecuteTime": {
     "start_time": "2023-04-25T16:33:56.771363Z",
     "end_time": "2023-04-25T16:33:56.787164Z"
    }
   }
  },
  {
   "cell_type": "code",
   "execution_count": 3,
   "outputs": [],
   "source": [
    "surnames = ['H ', 'Ghosh', 'Kumar', 'Thakur', 'surname', 'Singh', 'Sahithi', 'Raja', 'Bhat', 'Kumar', 'Bhattacharya', 'Rajput']"
   ],
   "metadata": {
    "collapsed": false,
    "ExecuteTime": {
     "start_time": "2023-04-25T16:33:56.788166Z",
     "end_time": "2023-04-25T16:33:56.821362Z"
    }
   }
  },
  {
   "cell_type": "code",
   "execution_count": 4,
   "outputs": [],
   "source": [
    "job_titles = ['Backend Developer', 'Data Scientist', 'Director of Engineering', 'IT Project Manager', '(ITA) Data Scientist', '(ITA) Web Developer', 'Lead Technical Program Manager', 'Primary English Teacher', 'Senior Product Manager', 'Senior Software Developer', 'Web Developer']"
   ],
   "metadata": {
    "collapsed": false,
    "ExecuteTime": {
     "start_time": "2023-04-25T16:33:56.809860Z",
     "end_time": "2023-04-25T16:33:56.821362Z"
    }
   }
  },
  {
   "cell_type": "code",
   "execution_count": 36,
   "outputs": [],
   "source": [
    "with psycopg_engine() as conn:\n",
    "    for i, (name, surname) in enumerate(zip(names, surnames)):\n",
    "         conn.execute(\"\"\"INSERT INTO worker VALUES (%(id)s, %(name)s, %(surname)s)\"\"\", params={\"id\": i+1, \"name\": name, \"surname\": surname})\n",
    "         conn.commit()"
   ],
   "metadata": {
    "collapsed": false,
    "ExecuteTime": {
     "start_time": "2023-04-25T16:27:58.718920Z",
     "end_time": "2023-04-25T16:28:06.095663Z"
    }
   }
  },
  {
   "cell_type": "code",
   "execution_count": 13,
   "outputs": [],
   "source": [
    "with psycopg_engine() as conn:\n",
    "    for i, title in enumerate(job_titles):\n",
    "        conn.execute(\"\"\"INSERT INTO job_offer VALUES (%(id)s, %(title)s)\"\"\", params={\"id\": i+1, \"title\": title})\n",
    "        conn.commit()"
   ],
   "metadata": {
    "collapsed": false,
    "ExecuteTime": {
     "start_time": "2023-04-25T01:10:14.459964Z",
     "end_time": "2023-04-25T01:10:21.260153Z"
    }
   }
  },
  {
   "cell_type": "code",
   "execution_count": 5,
   "outputs": [],
   "source": [
    "# Load the paths of all the files\n",
    "cv_dir = '../docs/cvs/'\n",
    "jobs_dir = '../docs/jobs/'\n",
    "cvs_paths = [ cv_dir + cv_path for cv_path in os.listdir(cv_dir) ]\n",
    "jobs_paths = [ jobs_dir + job_path for job_path in os.listdir(jobs_dir) ]"
   ],
   "metadata": {
    "collapsed": false,
    "ExecuteTime": {
     "start_time": "2023-04-25T16:33:56.819045Z",
     "end_time": "2023-04-25T16:33:56.838904Z"
    }
   }
  },
  {
   "cell_type": "code",
   "execution_count": 6,
   "outputs": [],
   "source": [
    "# Read PDFs as binary strings\n",
    "cvs_bin = [ b64encode(open(cv_path, 'rb').read()) for cv_path in cvs_paths ]\n",
    "jobs_bin = [ b64encode(open(job_path, 'rb').read()) for job_path in jobs_paths ]"
   ],
   "metadata": {
    "collapsed": false,
    "ExecuteTime": {
     "start_time": "2023-04-25T16:33:56.839724Z",
     "end_time": "2023-04-25T16:33:56.916372Z"
    }
   }
  },
  {
   "cell_type": "code",
   "execution_count": 39,
   "outputs": [],
   "source": [
    "# Save CV PDFs into the DB\n",
    "with psycopg_engine() as conn:\n",
    "    for i, cv in enumerate(cvs_bin):\n",
    "        conn.execute(\"\"\"UPDATE worker\n",
    "                        SET curriculum = %(cv)s\n",
    "                        WHERE worker_id = %(id)s\"\"\", params={\"id\": i+1, \"cv\": cv})\n",
    "        conn.commit()"
   ],
   "metadata": {
    "collapsed": false,
    "ExecuteTime": {
     "start_time": "2023-04-25T16:28:35.233490Z",
     "end_time": "2023-04-25T16:28:44.197254Z"
    }
   }
  },
  {
   "cell_type": "code",
   "execution_count": 52,
   "outputs": [],
   "source": [
    "# Save jobs PDFs into the DB\n",
    "with psycopg_engine() as conn:\n",
    "    for i, file in enumerate(jobs_bin):\n",
    "        conn.execute(\"\"\"UPDATE job_offer\n",
    "                        SET file = %(file)s\n",
    "                        WHERE offer_id = %(id)s\"\"\", params={\"id\": i+1, \"file\": file})\n",
    "        conn.commit()"
   ],
   "metadata": {
    "collapsed": false,
    "ExecuteTime": {
     "start_time": "2023-04-25T01:28:33.250008Z",
     "end_time": "2023-04-25T01:28:41.267945Z"
    }
   }
  },
  {
   "cell_type": "code",
   "execution_count": 40,
   "outputs": [],
   "source": [
    "# Compute CV embeddings\n",
    "cvs = [ extract_from_pdf(cv) for cv in cvs_paths]\n",
    "cvs = [ pre_process(cv) for cv in cvs ]\n",
    "cvs = [ encode(cv) for cv in cvs]"
   ],
   "metadata": {
    "collapsed": false,
    "ExecuteTime": {
     "start_time": "2023-04-25T16:28:44.201816Z",
     "end_time": "2023-04-25T16:29:28.317269Z"
    }
   }
  },
  {
   "cell_type": "code",
   "execution_count": 41,
   "outputs": [],
   "source": [
    "# Store CV embeddings\n",
    "with psycopg_engine() as conn:\n",
    "    for i, cv in enumerate(cvs):\n",
    "        conn.execute(\"\"\"UPDATE worker\n",
    "                        SET embedding = %(embedding)s\n",
    "                        WHERE worker_id = %(id)s\"\"\", params={\"id\": i+1, \"embedding\": cv.tolist()})\n",
    "        conn.commit()"
   ],
   "metadata": {
    "collapsed": false,
    "ExecuteTime": {
     "start_time": "2023-04-25T16:29:28.321608Z",
     "end_time": "2023-04-25T16:29:35.774327Z"
    }
   }
  },
  {
   "cell_type": "code",
   "execution_count": 35,
   "outputs": [],
   "source": [
    "# Compute jobs embeddings\n",
    "jobs = [ extract_from_pdf(job) for job in jobs_paths]\n",
    "jobs = [ pre_process(job) for job in jobs ]\n",
    "jobs = [ encode(job) for job in jobs]"
   ],
   "metadata": {
    "collapsed": false,
    "ExecuteTime": {
     "start_time": "2023-04-25T01:20:42.955899Z",
     "end_time": "2023-04-25T01:21:09.685636Z"
    }
   }
  },
  {
   "cell_type": "code",
   "execution_count": 38,
   "outputs": [],
   "source": [
    "# Store jobs embedding\n",
    "with psycopg_engine() as conn:\n",
    "    for i, job in enumerate(jobs):\n",
    "        conn.execute(\"\"\"UPDATE job_offer\n",
    "                        SET embedding = %(embedding)s\n",
    "                        WHERE offer_id = %(id)s\"\"\", params={\"id\": i+1, \"embedding\": job.tolist()})\n",
    "        conn.commit()"
   ],
   "metadata": {
    "collapsed": false,
    "ExecuteTime": {
     "start_time": "2023-04-25T01:21:24.575273Z",
     "end_time": "2023-04-25T01:21:31.458749Z"
    }
   }
  },
  {
   "cell_type": "code",
   "execution_count": 42,
   "outputs": [],
   "source": [
    "# Randomly populate the applies_to table\n",
    "np.random.seed(1)\n",
    "with psycopg_engine() as conn:\n",
    "    for i in range(len(jobs_paths)):\n",
    "        # Sample from a Bernoulli with P(success)=p\n",
    "        does_apply = np.random.binomial(n=1, p=0.3, size=len(cvs_paths))\n",
    "        for j in range(len(cvs_paths)):\n",
    "            # Insert only if success\n",
    "            if does_apply[j] == 1:\n",
    "                conn.execute(\"\"\"INSERT INTO applies_to VALUES (%(offer_id)s, %(worker_id)s)\"\"\", params={\"offer_id\": i+1, \"worker_id\": j+1})\n",
    "    conn.commit()"
   ],
   "metadata": {
    "collapsed": false,
    "ExecuteTime": {
     "start_time": "2023-04-25T16:29:35.767727Z",
     "end_time": "2023-04-25T16:29:43.950565Z"
    }
   }
  },
  {
   "cell_type": "code",
   "execution_count": 49,
   "outputs": [],
   "source": [
    "# Read a PDF from the database\n",
    "with psycopg_engine() as conn:\n",
    "    cur = conn.execute(\"\"\"SELECT curriculum from worker\n",
    "                    WHERE worker_id = %(id)s\"\"\", params={\"id\": 9})\n",
    "    data = b64decode(cur.fetchone()[0])"
   ],
   "metadata": {
    "collapsed": false,
    "ExecuteTime": {
     "start_time": "2023-04-25T16:31:03.195787Z",
     "end_time": "2023-04-25T16:31:05.664600Z"
    }
   }
  },
  {
   "cell_type": "code",
   "execution_count": 50,
   "outputs": [],
   "source": [
    "# Write the file locally\n",
    "with open('temp.pdf', 'wb') as f:\n",
    "    f.write(data)"
   ],
   "metadata": {
    "collapsed": false,
    "ExecuteTime": {
     "start_time": "2023-04-25T16:31:05.665523Z",
     "end_time": "2023-04-25T16:31:05.708026Z"
    }
   }
  },
  {
   "cell_type": "code",
   "execution_count": null,
   "outputs": [],
   "source": [],
   "metadata": {
    "collapsed": false
   }
  }
 ],
 "metadata": {
  "kernelspec": {
   "display_name": "Python 3",
   "language": "python",
   "name": "python3"
  },
  "language_info": {
   "codemirror_mode": {
    "name": "ipython",
    "version": 2
   },
   "file_extension": ".py",
   "mimetype": "text/x-python",
   "name": "python",
   "nbconvert_exporter": "python",
   "pygments_lexer": "ipython2",
   "version": "2.7.6"
  }
 },
 "nbformat": 4,
 "nbformat_minor": 0
}
